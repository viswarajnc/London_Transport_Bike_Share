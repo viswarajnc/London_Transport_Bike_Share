{
 "cells": [
  {
   "cell_type": "markdown",
   "id": "e0f50a42",
   "metadata": {},
   "source": [
    "# Context and Purpose\n",
    "\n",
    "# The purpose of the project is to predict the future of Bike shares in London based on different weather conditions.\n",
    "\n",
    "# The data from cycling dataset is grouped by \"Start time\", this represent the count of new bike shares grouped by hour.\n",
    "\n"
   ]
  },
  {
   "cell_type": "markdown",
   "id": "cfb69a95",
   "metadata": {},
   "source": [
    "# Metadata\n",
    "\n",
    "# \"timestamp\" - timestamp field for grouping the data \n",
    "\n",
    "# \"cnt\" - the count of bike shares\n",
    "\n",
    "# \"t1\" - real temperature in C\n",
    "\n",
    "# \"t2\" - temperature in C \"feels like\"\n",
    "\n",
    "# \"hum\" - humidity in percentage\n",
    "\n",
    "# \"windspeed\" - wind speed in km/h\n",
    "\n",
    "# \"weathercode\" - category of the weather\n",
    "\n",
    "# \"isholiday\" - boolean field - 1 holiday / 0 non holiday\n",
    "\n",
    "# \"isweekend\" - boolean field - 1 if the day is weekend\n",
    "\n",
    "# \"season\" - category field meteorological seasons: \n",
    "# 0-spring ; \n",
    "# 1-summer; \n",
    "# 2-fall; \n",
    "# 3-winter.\n",
    "\n",
    "# \"weather_code\" category description:\n",
    "# 1 = Clear ; mostly clear but have some values with haze/fog/patches of fog\n",
    "# 2 = scattered clouds / few clouds \n",
    "# 3 = Broken clouds \n",
    "# 4 = Cloudy \n",
    "# 7 = Rain/ light Rain shower/ Light rain \n",
    "# 10 = rain with thunderstorm \n",
    "# 26 = snowfall \n"
   ]
  },
  {
   "cell_type": "markdown",
   "id": "11e675bc",
   "metadata": {},
   "source": [
    "# 1. Data Collection"
   ]
  },
  {
   "cell_type": "markdown",
   "id": "c13861cc",
   "metadata": {},
   "source": [
    "# Load the dataset and the required libraries"
   ]
  },
  {
   "cell_type": "code",
   "execution_count": 1,
   "id": "21b71082",
   "metadata": {},
   "outputs": [],
   "source": [
    "#Import the main libraries\n",
    "import pandas as pd\n",
    "import numpy as np\n",
    "import matplotlib.pyplot as plt\n",
    "import seaborn as sns\n",
    "#Read the csv to a variable\n",
    "London_bike_share=pd.read_csv(\"london_merged.csv\")"
   ]
  },
  {
   "cell_type": "code",
   "execution_count": 2,
   "id": "19c982dd",
   "metadata": {},
   "outputs": [
    {
     "data": {
      "text/html": [
       "<div>\n",
       "<style scoped>\n",
       "    .dataframe tbody tr th:only-of-type {\n",
       "        vertical-align: middle;\n",
       "    }\n",
       "\n",
       "    .dataframe tbody tr th {\n",
       "        vertical-align: top;\n",
       "    }\n",
       "\n",
       "    .dataframe thead th {\n",
       "        text-align: right;\n",
       "    }\n",
       "</style>\n",
       "<table border=\"1\" class=\"dataframe\">\n",
       "  <thead>\n",
       "    <tr style=\"text-align: right;\">\n",
       "      <th></th>\n",
       "      <th>timestamp</th>\n",
       "      <th>cnt</th>\n",
       "      <th>t1</th>\n",
       "      <th>t2</th>\n",
       "      <th>hum</th>\n",
       "      <th>wind_speed</th>\n",
       "      <th>weather_code</th>\n",
       "      <th>is_holiday</th>\n",
       "      <th>is_weekend</th>\n",
       "      <th>season</th>\n",
       "    </tr>\n",
       "  </thead>\n",
       "  <tbody>\n",
       "    <tr>\n",
       "      <th>0</th>\n",
       "      <td>2015-01-04 00:00:00</td>\n",
       "      <td>182</td>\n",
       "      <td>3.0</td>\n",
       "      <td>2.0</td>\n",
       "      <td>93.0</td>\n",
       "      <td>6.0</td>\n",
       "      <td>3.0</td>\n",
       "      <td>0.0</td>\n",
       "      <td>1.0</td>\n",
       "      <td>3.0</td>\n",
       "    </tr>\n",
       "    <tr>\n",
       "      <th>1</th>\n",
       "      <td>2015-01-04 01:00:00</td>\n",
       "      <td>138</td>\n",
       "      <td>3.0</td>\n",
       "      <td>2.5</td>\n",
       "      <td>93.0</td>\n",
       "      <td>5.0</td>\n",
       "      <td>1.0</td>\n",
       "      <td>0.0</td>\n",
       "      <td>1.0</td>\n",
       "      <td>3.0</td>\n",
       "    </tr>\n",
       "    <tr>\n",
       "      <th>2</th>\n",
       "      <td>2015-01-04 02:00:00</td>\n",
       "      <td>134</td>\n",
       "      <td>2.5</td>\n",
       "      <td>2.5</td>\n",
       "      <td>96.5</td>\n",
       "      <td>0.0</td>\n",
       "      <td>1.0</td>\n",
       "      <td>0.0</td>\n",
       "      <td>1.0</td>\n",
       "      <td>3.0</td>\n",
       "    </tr>\n",
       "    <tr>\n",
       "      <th>3</th>\n",
       "      <td>2015-01-04 03:00:00</td>\n",
       "      <td>72</td>\n",
       "      <td>2.0</td>\n",
       "      <td>2.0</td>\n",
       "      <td>100.0</td>\n",
       "      <td>0.0</td>\n",
       "      <td>1.0</td>\n",
       "      <td>0.0</td>\n",
       "      <td>1.0</td>\n",
       "      <td>3.0</td>\n",
       "    </tr>\n",
       "    <tr>\n",
       "      <th>4</th>\n",
       "      <td>2015-01-04 04:00:00</td>\n",
       "      <td>47</td>\n",
       "      <td>2.0</td>\n",
       "      <td>0.0</td>\n",
       "      <td>93.0</td>\n",
       "      <td>6.5</td>\n",
       "      <td>1.0</td>\n",
       "      <td>0.0</td>\n",
       "      <td>1.0</td>\n",
       "      <td>3.0</td>\n",
       "    </tr>\n",
       "  </tbody>\n",
       "</table>\n",
       "</div>"
      ],
      "text/plain": [
       "             timestamp  cnt   t1   t2    hum  wind_speed  weather_code  \\\n",
       "0  2015-01-04 00:00:00  182  3.0  2.0   93.0         6.0           3.0   \n",
       "1  2015-01-04 01:00:00  138  3.0  2.5   93.0         5.0           1.0   \n",
       "2  2015-01-04 02:00:00  134  2.5  2.5   96.5         0.0           1.0   \n",
       "3  2015-01-04 03:00:00   72  2.0  2.0  100.0         0.0           1.0   \n",
       "4  2015-01-04 04:00:00   47  2.0  0.0   93.0         6.5           1.0   \n",
       "\n",
       "   is_holiday  is_weekend  season  \n",
       "0         0.0         1.0     3.0  \n",
       "1         0.0         1.0     3.0  \n",
       "2         0.0         1.0     3.0  \n",
       "3         0.0         1.0     3.0  \n",
       "4         0.0         1.0     3.0  "
      ]
     },
     "execution_count": 2,
     "metadata": {},
     "output_type": "execute_result"
    }
   ],
   "source": [
    "#Checking if the data has loaded properly\n",
    "London_bike_share.head()"
   ]
  },
  {
   "cell_type": "code",
   "execution_count": 3,
   "id": "df52387f",
   "metadata": {},
   "outputs": [
    {
     "data": {
      "text/plain": [
       "(17414, 10)"
      ]
     },
     "execution_count": 3,
     "metadata": {},
     "output_type": "execute_result"
    }
   ],
   "source": [
    "# Checking the dataset shape\n",
    "London_bike_share.shape"
   ]
  },
  {
   "cell_type": "code",
   "execution_count": 4,
   "id": "1d0a1b50",
   "metadata": {},
   "outputs": [
    {
     "name": "stdout",
     "output_type": "stream",
     "text": [
      "<class 'pandas.core.frame.DataFrame'>\n",
      "RangeIndex: 17414 entries, 0 to 17413\n",
      "Data columns (total 10 columns):\n",
      " #   Column        Non-Null Count  Dtype  \n",
      "---  ------        --------------  -----  \n",
      " 0   timestamp     17414 non-null  object \n",
      " 1   cnt           17414 non-null  int64  \n",
      " 2   t1            17414 non-null  float64\n",
      " 3   t2            17414 non-null  float64\n",
      " 4   hum           17414 non-null  float64\n",
      " 5   wind_speed    17414 non-null  float64\n",
      " 6   weather_code  17414 non-null  float64\n",
      " 7   is_holiday    17414 non-null  float64\n",
      " 8   is_weekend    17414 non-null  float64\n",
      " 9   season        17414 non-null  float64\n",
      "dtypes: float64(8), int64(1), object(1)\n",
      "memory usage: 1.3+ MB\n"
     ]
    }
   ],
   "source": [
    "# checking the attributes of the dataset with info function\n",
    "London_bike_share.info()"
   ]
  },
  {
   "cell_type": "markdown",
   "id": "3778c4c0",
   "metadata": {},
   "source": [
    "# 2. Data Pre-processing"
   ]
  },
  {
   "cell_type": "markdown",
   "id": "e4696eda",
   "metadata": {},
   "source": [
    "# 2.1 - Finding and replacing missing values"
   ]
  },
  {
   "cell_type": "code",
   "execution_count": 5,
   "id": "63209123",
   "metadata": {},
   "outputs": [
    {
     "data": {
      "text/plain": [
       "timestamp       0\n",
       "cnt             0\n",
       "t1              0\n",
       "t2              0\n",
       "hum             0\n",
       "wind_speed      0\n",
       "weather_code    0\n",
       "is_holiday      0\n",
       "is_weekend      0\n",
       "season          0\n",
       "dtype: int64"
      ]
     },
     "execution_count": 5,
     "metadata": {},
     "output_type": "execute_result"
    }
   ],
   "source": [
    "# Verifying the presence of null values using isna and sum functions\n",
    "London_bike_share.isna().sum()"
   ]
  },
  {
   "cell_type": "markdown",
   "id": "92206d32",
   "metadata": {},
   "source": [
    "# We can notice that there are no null values in any of the columns. \n",
    "# So there's no need to fill any columns with values "
   ]
  },
  {
   "cell_type": "code",
   "execution_count": null,
   "id": "00385f9b",
   "metadata": {},
   "outputs": [],
   "source": []
  },
  {
   "cell_type": "markdown",
   "id": "ed495ab1",
   "metadata": {},
   "source": [
    "# 2.1 Checking for outliers and dropping them from dataset"
   ]
  },
  {
   "cell_type": "code",
   "execution_count": 6,
   "id": "8e3db794",
   "metadata": {},
   "outputs": [
    {
     "data": {
      "image/png": "[encoded data removed]",
      "text/plain": [
       "<Figure size 1440x720 with 9 Axes>"
      ]
     },
     "metadata": {
      "needs_background": "light"
     },
     "output_type": "display_data"
    }
   ],
   "source": [
    "# Plotting the data for numerical columns for checking the distribution and skewness\n",
    "graph=London_bike_share.select_dtypes(include=[\"float\",\"int64\"])\n",
    "graph.hist(figsize=(20,10))\n",
    "plt.show()"
   ]
  },
  {
   "cell_type": "markdown",
   "id": "d31d6374",
   "metadata": {},
   "source": [
    "# Inferences regarding data distribution\n",
    "\n",
    "# 1. The categorical columns in the dataset are - \"is_holiday\", \"is_weekend\",\"weather_code\" & \"season\". So we are not infering anything from the skew of these columns\n",
    "# 2. The temparature related columns \"t1\", \"t2\" having actual and \"feels like\" temperature respectively are having near to normal distribution as these are continous variables.\n",
    "# 3 .The count column 'cnt' and wind speed column \"wind_speed\" are having right skewedness.\n",
    "# 4. The humidity column \"hum\" is skewed-left. This is understandable as london is generally warm and not humid throughout the year"
   ]
  },
  {
   "cell_type": "code",
   "execution_count": null,
   "id": "09b6fe13",
   "metadata": {},
   "outputs": [],
   "source": []
  },
  {
   "cell_type": "markdown",
   "id": "b10ac826",
   "metadata": {},
   "source": [
    "# Box plots for humidity, weather code, season and count"
   ]
  },
  {
   "cell_type": "code",
   "execution_count": 7,
   "id": "58ff1dda",
   "metadata": {},
   "outputs": [
    {
     "name": "stderr",
     "output_type": "stream",
     "text": [
      "C:\\Users\\MY BOOK\\anaconda3\\lib\\site-packages\\seaborn\\_decorators.py:36: FutureWarning: Pass the following variable as a keyword arg: x. From version 0.12, the only valid positional argument will be `data`, and passing other arguments without an explicit keyword will result in an error or misinterpretation.\n",
      "  warnings.warn(\n"
     ]
    },
    {
     "data": {
      "text/plain": [
       "<AxesSubplot:xlabel='hum'>"
      ]
     },
     "execution_count": 7,
     "metadata": {},
     "output_type": "execute_result"
    },
    {
     "data": {
      "image/png": "[encoded data removed]",
      "text/plain": [
       "<Figure size 864x360 with 1 Axes>"
      ]
     },
     "metadata": {
      "needs_background": "light"
     },
     "output_type": "display_data"
    }
   ],
   "source": [
    "# Let's do the boxplot for the 'hum' data to understand if there are any outliers \n",
    "fig , ax = plt.subplots(figsize=(12,5))\n",
    "sns.boxplot(London_bike_share['hum'])"
   ]
  },
  {
   "cell_type": "markdown",
   "id": "2f167b05",
   "metadata": {},
   "source": [
    "# Few outliers present under the area of values under 40 for humidity"
   ]
  },
  {
   "cell_type": "code",
   "execution_count": null,
   "id": "b1c6d55a",
   "metadata": {},
   "outputs": [],
   "source": []
  },
  {
   "cell_type": "markdown",
   "id": "272b374a",
   "metadata": {},
   "source": [
    "# Univariate analysis ( target attribute 'cnt')"
   ]
  },
  {
   "cell_type": "code",
   "execution_count": 8,
   "id": "60ce3563",
   "metadata": {},
   "outputs": [
    {
     "name": "stderr",
     "output_type": "stream",
     "text": [
      "C:\\Users\\MY BOOK\\anaconda3\\lib\\site-packages\\seaborn\\_decorators.py:36: FutureWarning: Pass the following variable as a keyword arg: x. From version 0.12, the only valid positional argument will be `data`, and passing other arguments without an explicit keyword will result in an error or misinterpretation.\n",
      "  warnings.warn(\n"
     ]
    },
    {
     "data": {
      "text/plain": [
       "<AxesSubplot:xlabel='cnt'>"
      ]
     },
     "execution_count": 8,
     "metadata": {},
     "output_type": "execute_result"
    },
    {
     "data": {
      "image/png": "[encoded data removed]",
      "text/plain": [
       "<Figure size 864x360 with 1 Axes>"
      ]
     },
     "metadata": {
      "needs_background": "light"
     },
     "output_type": "display_data"
    }
   ],
   "source": [
    "# Let's do the boxplot for the 'cnt' data to understand if there are any outliers \n",
    "fig , ax = plt.subplots(figsize=(12,5))\n",
    "sns.boxplot(London_bike_share['cnt'])"
   ]
  },
  {
   "cell_type": "markdown",
   "id": "2544d28a",
   "metadata": {},
   "source": [
    "# We can see that there are some outliers above the counts of 4000. \n",
    "# But all of them are not outliers because there can be days when more people show up for bike sharing and only few extreme values needs to be removed from 'cnt' "
   ]
  },
  {
   "cell_type": "code",
   "execution_count": 9,
   "id": "433dca90",
   "metadata": {},
   "outputs": [
    {
     "name": "stderr",
     "output_type": "stream",
     "text": [
      "C:\\Users\\MY BOOK\\anaconda3\\lib\\site-packages\\seaborn\\_decorators.py:36: FutureWarning: Pass the following variable as a keyword arg: x. From version 0.12, the only valid positional argument will be `data`, and passing other arguments without an explicit keyword will result in an error or misinterpretation.\n",
      "  warnings.warn(\n"
     ]
    },
    {
     "data": {
      "text/plain": [
       "<AxesSubplot:xlabel='weather_code'>"
      ]
     },
     "execution_count": 9,
     "metadata": {},
     "output_type": "execute_result"
    },
    {
     "data": {
      "image/png": "[encoded data removed]",
      "text/plain": [
       "<Figure size 864x360 with 1 Axes>"
      ]
     },
     "metadata": {
      "needs_background": "light"
     },
     "output_type": "display_data"
    }
   ],
   "source": [
    "# Let's do the boxplot for the 'weather code' data to understand if there are any outliers \n",
    "fig , ax = plt.subplots(figsize=(12,5))\n",
    "sns.boxplot(London_bike_share['weather_code'])"
   ]
  },
  {
   "cell_type": "markdown",
   "id": "5a47d62d",
   "metadata": {},
   "source": [
    "# According to the box plot, the values 7,10 and 26 are shown as outliers for weather code \n",
    "# But we won't consider them as outliers since these are mentioned as valid weather codes in the metadata descriptions\n",
    "# Therefore we won't drop these values from the dataset"
   ]
  },
  {
   "cell_type": "code",
   "execution_count": 10,
   "id": "85712355",
   "metadata": {},
   "outputs": [
    {
     "name": "stderr",
     "output_type": "stream",
     "text": [
      "C:\\Users\\MY BOOK\\anaconda3\\lib\\site-packages\\seaborn\\_decorators.py:36: FutureWarning: Pass the following variable as a keyword arg: x. From version 0.12, the only valid positional argument will be `data`, and passing other arguments without an explicit keyword will result in an error or misinterpretation.\n",
      "  warnings.warn(\n"
     ]
    },
    {
     "data": {
      "text/plain": [
       "<AxesSubplot:xlabel='season'>"
      ]
     },
     "execution_count": 10,
     "metadata": {},
     "output_type": "execute_result"
    },
    {
     "data": {
      "image/png": "[encoded data removed]",
      "text/plain": [
       "<Figure size 864x360 with 1 Axes>"
      ]
     },
     "metadata": {
      "needs_background": "light"
     },
     "output_type": "display_data"
    }
   ],
   "source": [
    "# Let's boxplot the 'season' column to identify the outliers \n",
    "fig , ax = plt.subplots(figsize=(12,5))\n",
    "sns.boxplot(London_bike_share['season'])"
   ]
  },
  {
   "cell_type": "markdown",
   "id": "30799b00",
   "metadata": {},
   "source": [
    "# The entire data for 'season' is held between the range 0-3.\n",
    "# This makes sense since the metadata says the season can have values 0,1,2 & 3 representing spring,summer,fall and winter repectively.\n",
    "# There are no outliers for \"season\" column and therefore no dropping of values ."
   ]
  },
  {
   "cell_type": "markdown",
   "id": "2b6bbca7",
   "metadata": {},
   "source": [
    "# Let's create a general function to remove outliers for a dataframe"
   ]
  },
  {
   "cell_type": "code",
   "execution_count": 11,
   "id": "01060657",
   "metadata": {},
   "outputs": [],
   "source": [
    "# function for removing outliers\n",
    "def remove_outliers(dataframe, column):\n",
    "  q3 = dataframe[column].quantile(0.75)\n",
    "  q1 = dataframe[column].quantile(0.25)\n",
    "  IQR = q3 - q1\n",
    "  upper = q3 + (1.5 * IQR)\n",
    "  lower = q1 - (1.5 * IQR)\n",
    "  dataframe = dataframe[(dataframe[column] > lower ) & (dataframe[column] < upper)]\n",
    "  return dataframe"
   ]
  },
  {
   "cell_type": "markdown",
   "id": "19c3e289",
   "metadata": {},
   "source": [
    "# Since outliers are present in count and humidity we'll remove them using quantile method"
   ]
  },
  {
   "cell_type": "code",
   "execution_count": 12,
   "id": "9dcbcc6a",
   "metadata": {},
   "outputs": [],
   "source": [
    "# Remove the outlier values for cnt,humidity\n",
    "London_bike_share = remove_outliers(London_bike_share,'cnt')\n",
    "London_bike_share = remove_outliers(London_bike_share,'hum')"
   ]
  },
  {
   "cell_type": "code",
   "execution_count": 13,
   "id": "6a155b54",
   "metadata": {},
   "outputs": [
    {
     "name": "stdout",
     "output_type": "stream",
     "text": [
      "<class 'pandas.core.frame.DataFrame'>\n",
      "Int64Index: 16647 entries, 0 to 17413\n",
      "Data columns (total 10 columns):\n",
      " #   Column        Non-Null Count  Dtype  \n",
      "---  ------        --------------  -----  \n",
      " 0   timestamp     16647 non-null  object \n",
      " 1   cnt           16647 non-null  int64  \n",
      " 2   t1            16647 non-null  float64\n",
      " 3   t2            16647 non-null  float64\n",
      " 4   hum           16647 non-null  float64\n",
      " 5   wind_speed    16647 non-null  float64\n",
      " 6   weather_code  16647 non-null  float64\n",
      " 7   is_holiday    16647 non-null  float64\n",
      " 8   is_weekend    16647 non-null  float64\n",
      " 9   season        16647 non-null  float64\n",
      "dtypes: float64(8), int64(1), object(1)\n",
      "memory usage: 1.4+ MB\n"
     ]
    }
   ],
   "source": [
    "London_bike_share.info()"
   ]
  },
  {
   "cell_type": "code",
   "execution_count": 14,
   "id": "8d378374",
   "metadata": {},
   "outputs": [
    {
     "name": "stderr",
     "output_type": "stream",
     "text": [
      "C:\\Users\\MY BOOK\\anaconda3\\lib\\site-packages\\seaborn\\_decorators.py:36: FutureWarning: Pass the following variable as a keyword arg: x. From version 0.12, the only valid positional argument will be `data`, and passing other arguments without an explicit keyword will result in an error or misinterpretation.\n",
      "  warnings.warn(\n"
     ]
    },
    {
     "data": {
      "text/plain": [
       "<AxesSubplot:xlabel='cnt'>"
      ]
     },
     "execution_count": 14,
     "metadata": {},
     "output_type": "execute_result"
    },
    {
     "data": {
      "image/png": "[encoded data removed]",
      "text/plain": [
       "<Figure size 864x360 with 1 Axes>"
      ]
     },
     "metadata": {
      "needs_background": "light"
     },
     "output_type": "display_data"
    }
   ],
   "source": [
    "# Let's do the boxplot for the 'cnt' data after dropping outliers \n",
    "fig , ax = plt.subplots(figsize=(12,5))\n",
    "sns.boxplot(London_bike_share['cnt'])"
   ]
  },
  {
   "cell_type": "markdown",
   "id": "4c779124",
   "metadata": {},
   "source": [
    "# Let's understand that the data in the right end does not point to outliers as these can be the increase in count of rideshares in favourable weather conditions and we need not delete the data represented by those"
   ]
  },
  {
   "cell_type": "code",
   "execution_count": 15,
   "id": "cf9824e5",
   "metadata": {},
   "outputs": [
    {
     "name": "stderr",
     "output_type": "stream",
     "text": [
      "C:\\Users\\MY BOOK\\anaconda3\\lib\\site-packages\\seaborn\\_decorators.py:36: FutureWarning: Pass the following variable as a keyword arg: x. From version 0.12, the only valid positional argument will be `data`, and passing other arguments without an explicit keyword will result in an error or misinterpretation.\n",
      "  warnings.warn(\n"
     ]
    },
    {
     "data": {
      "text/plain": [
       "<AxesSubplot:xlabel='hum'>"
      ]
     },
     "execution_count": 15,
     "metadata": {},
     "output_type": "execute_result"
    },
    {
     "data": {
      "image/png": "[encoded data removed]",
      "text/plain": [
       "<Figure size 864x360 with 1 Axes>"
      ]
     },
     "metadata": {
      "needs_background": "light"
     },
     "output_type": "display_data"
    }
   ],
   "source": [
    "# Let's do the boxplot for the 'hum' data to understand if there are any outliers after deleting them\n",
    "fig , ax = plt.subplots(figsize=(12,5))\n",
    "sns.boxplot(London_bike_share['hum'])"
   ]
  },
  {
   "cell_type": "markdown",
   "id": "04601930",
   "metadata": {},
   "source": [
    "# The extreme low humidity data is not removed yet and let it remain as there can be days where humidity can be low although rarely"
   ]
  },
  {
   "cell_type": "code",
   "execution_count": 16,
   "id": "460bf837",
   "metadata": {},
   "outputs": [
    {
     "data": {
      "text/plain": [
       "[1.0, 2.0, 3.0, 4.0, 7.0, 10.0, 26.0]"
      ]
     },
     "execution_count": 16,
     "metadata": {},
     "output_type": "execute_result"
    }
   ],
   "source": [
    "# But let's check if these belongs to the actual values for weather codes mentioned in the metadata description\n",
    "sorted ( London_bike_share['weather_code'].unique() )"
   ]
  },
  {
   "cell_type": "code",
   "execution_count": 17,
   "id": "188526d9",
   "metadata": {},
   "outputs": [],
   "source": [
    "# The values that exists for weather_code in the dataset after removing the outliers are 1,2,3,4,7,10 and 26 \n",
    "# which are all having valid descriptions as mentioned in the metadata "
   ]
  },
  {
   "cell_type": "code",
   "execution_count": 18,
   "id": "5de48cf6",
   "metadata": {},
   "outputs": [
    {
     "data": {
      "text/plain": [
       "[0.0, 1.0, 2.0, 3.0]"
      ]
     },
     "execution_count": 18,
     "metadata": {},
     "output_type": "execute_result"
    }
   ],
   "source": [
    "# let's check if the value belongs to the actual values for 'season' mentioned in the metadata description\n",
    "sorted ( London_bike_share['season'].unique() )"
   ]
  },
  {
   "cell_type": "code",
   "execution_count": 19,
   "id": "f654187d",
   "metadata": {},
   "outputs": [],
   "source": [
    "# The values for season that remains after removing outliers are 0,1,2 & 3 which have valid metadata descriptions."
   ]
  },
  {
   "cell_type": "markdown",
   "id": "fcd998fd",
   "metadata": {},
   "source": [
    "# 2.3 Feature reduction"
   ]
  },
  {
   "cell_type": "code",
   "execution_count": 20,
   "id": "2dd4b2ea",
   "metadata": {},
   "outputs": [
    {
     "name": "stdout",
     "output_type": "stream",
     "text": [
      "<class 'pandas.core.frame.DataFrame'>\n",
      "Int64Index: 16647 entries, 0 to 17413\n",
      "Data columns (total 10 columns):\n",
      " #   Column        Non-Null Count  Dtype  \n",
      "---  ------        --------------  -----  \n",
      " 0   timestamp     16647 non-null  object \n",
      " 1   cnt           16647 non-null  int64  \n",
      " 2   t1            16647 non-null  float64\n",
      " 3   t2            16647 non-null  float64\n",
      " 4   hum           16647 non-null  float64\n",
      " 5   wind_speed    16647 non-null  float64\n",
      " 6   weather_code  16647 non-null  float64\n",
      " 7   is_holiday    16647 non-null  float64\n",
      " 8   is_weekend    16647 non-null  float64\n",
      " 9   season        16647 non-null  float64\n",
      "dtypes: float64(8), int64(1), object(1)\n",
      "memory usage: 1.4+ MB\n"
     ]
    }
   ],
   "source": [
    "# Checking the dataset after removing outliers from the columns\n",
    "London_bike_share.info()"
   ]
  },
  {
   "cell_type": "code",
   "execution_count": 21,
   "id": "5d9a8975",
   "metadata": {},
   "outputs": [
    {
     "data": {
      "text/html": [
       "<div>\n",
       "<style scoped>\n",
       "    .dataframe tbody tr th:only-of-type {\n",
       "        vertical-align: middle;\n",
       "    }\n",
       "\n",
       "    .dataframe tbody tr th {\n",
       "        vertical-align: top;\n",
       "    }\n",
       "\n",
       "    .dataframe thead th {\n",
       "        text-align: right;\n",
       "    }\n",
       "</style>\n",
       "<table border=\"1\" class=\"dataframe\">\n",
       "  <thead>\n",
       "    <tr style=\"text-align: right;\">\n",
       "      <th></th>\n",
       "      <th>cnt</th>\n",
       "      <th>t1</th>\n",
       "      <th>t2</th>\n",
       "      <th>hum</th>\n",
       "      <th>wind_speed</th>\n",
       "      <th>weather_code</th>\n",
       "      <th>is_holiday</th>\n",
       "      <th>is_weekend</th>\n",
       "      <th>season</th>\n",
       "    </tr>\n",
       "  </thead>\n",
       "  <tbody>\n",
       "    <tr>\n",
       "      <th>count</th>\n",
       "      <td>16647.000000</td>\n",
       "      <td>16647.000000</td>\n",
       "      <td>16647.000000</td>\n",
       "      <td>16647.000000</td>\n",
       "      <td>16647.000000</td>\n",
       "      <td>16647.000000</td>\n",
       "      <td>16647.000000</td>\n",
       "      <td>16647.000000</td>\n",
       "      <td>16647.000000</td>\n",
       "    </tr>\n",
       "    <tr>\n",
       "      <th>mean</th>\n",
       "      <td>1007.807112</td>\n",
       "      <td>12.242586</td>\n",
       "      <td>11.270579</td>\n",
       "      <td>72.946342</td>\n",
       "      <td>15.886021</td>\n",
       "      <td>2.769868</td>\n",
       "      <td>0.023067</td>\n",
       "      <td>0.294768</td>\n",
       "      <td>1.509101</td>\n",
       "    </tr>\n",
       "    <tr>\n",
       "      <th>std</th>\n",
       "      <td>884.615325</td>\n",
       "      <td>5.440624</td>\n",
       "      <td>6.509499</td>\n",
       "      <td>13.787052</td>\n",
       "      <td>7.944541</td>\n",
       "      <td>2.373780</td>\n",
       "      <td>0.150122</td>\n",
       "      <td>0.455952</td>\n",
       "      <td>1.128060</td>\n",
       "    </tr>\n",
       "    <tr>\n",
       "      <th>min</th>\n",
       "      <td>0.000000</td>\n",
       "      <td>-1.500000</td>\n",
       "      <td>-6.000000</td>\n",
       "      <td>34.500000</td>\n",
       "      <td>0.000000</td>\n",
       "      <td>1.000000</td>\n",
       "      <td>0.000000</td>\n",
       "      <td>0.000000</td>\n",
       "      <td>0.000000</td>\n",
       "    </tr>\n",
       "    <tr>\n",
       "      <th>25%</th>\n",
       "      <td>233.000000</td>\n",
       "      <td>8.000000</td>\n",
       "      <td>6.000000</td>\n",
       "      <td>64.000000</td>\n",
       "      <td>10.000000</td>\n",
       "      <td>1.000000</td>\n",
       "      <td>0.000000</td>\n",
       "      <td>0.000000</td>\n",
       "      <td>0.000000</td>\n",
       "    </tr>\n",
       "    <tr>\n",
       "      <th>50%</th>\n",
       "      <td>793.000000</td>\n",
       "      <td>12.000000</td>\n",
       "      <td>12.000000</td>\n",
       "      <td>75.000000</td>\n",
       "      <td>15.000000</td>\n",
       "      <td>2.000000</td>\n",
       "      <td>0.000000</td>\n",
       "      <td>0.000000</td>\n",
       "      <td>2.000000</td>\n",
       "    </tr>\n",
       "    <tr>\n",
       "      <th>75%</th>\n",
       "      <td>1522.500000</td>\n",
       "      <td>16.000000</td>\n",
       "      <td>16.000000</td>\n",
       "      <td>83.000000</td>\n",
       "      <td>20.500000</td>\n",
       "      <td>3.000000</td>\n",
       "      <td>0.000000</td>\n",
       "      <td>1.000000</td>\n",
       "      <td>3.000000</td>\n",
       "    </tr>\n",
       "    <tr>\n",
       "      <th>max</th>\n",
       "      <td>3793.000000</td>\n",
       "      <td>33.500000</td>\n",
       "      <td>33.500000</td>\n",
       "      <td>100.000000</td>\n",
       "      <td>56.500000</td>\n",
       "      <td>26.000000</td>\n",
       "      <td>1.000000</td>\n",
       "      <td>1.000000</td>\n",
       "      <td>3.000000</td>\n",
       "    </tr>\n",
       "  </tbody>\n",
       "</table>\n",
       "</div>"
      ],
      "text/plain": [
       "                cnt            t1            t2           hum    wind_speed  \\\n",
       "count  16647.000000  16647.000000  16647.000000  16647.000000  16647.000000   \n",
       "mean    1007.807112     12.242586     11.270579     72.946342     15.886021   \n",
       "std      884.615325      5.440624      6.509499     13.787052      7.944541   \n",
       "min        0.000000     -1.500000     -6.000000     34.500000      0.000000   \n",
       "25%      233.000000      8.000000      6.000000     64.000000     10.000000   \n",
       "50%      793.000000     12.000000     12.000000     75.000000     15.000000   \n",
       "75%     1522.500000     16.000000     16.000000     83.000000     20.500000   \n",
       "max     3793.000000     33.500000     33.500000    100.000000     56.500000   \n",
       "\n",
       "       weather_code    is_holiday    is_weekend        season  \n",
       "count  16647.000000  16647.000000  16647.000000  16647.000000  \n",
       "mean       2.769868      0.023067      0.294768      1.509101  \n",
       "std        2.373780      0.150122      0.455952      1.128060  \n",
       "min        1.000000      0.000000      0.000000      0.000000  \n",
       "25%        1.000000      0.000000      0.000000      0.000000  \n",
       "50%        2.000000      0.000000      0.000000      2.000000  \n",
       "75%        3.000000      0.000000      1.000000      3.000000  \n",
       "max       26.000000      1.000000      1.000000      3.000000  "
      ]
     },
     "execution_count": 21,
     "metadata": {},
     "output_type": "execute_result"
    }
   ],
   "source": [
    "London_bike_share.describe()"
   ]
  },
  {
   "cell_type": "code",
   "execution_count": 22,
   "id": "7177806b",
   "metadata": {},
   "outputs": [
    {
     "data": {
      "text/plain": [
       "<AxesSubplot:>"
      ]
     },
     "execution_count": 22,
     "metadata": {},
     "output_type": "execute_result"
    },
    {
     "data": {
      "image/png": "[encoded data removed]",
      "text/plain": [
       "<Figure size 720x360 with 2 Axes>"
      ]
     },
     "metadata": {
      "needs_background": "light"
     },
     "output_type": "display_data"
    }
   ],
   "source": [
    "# Create the heat map between the correlation between each columns in the dataset\n",
    "London_bike_corr = London_bike_share.corr()\n",
    "plt.subplots(figsize=(10,5))\n",
    "sns.heatmap(London_bike_corr,vmin=-0.99,vmax=1,annot=True,linewidth=0.2,cmap='rainbow')"
   ]
  },
  {
   "cell_type": "markdown",
   "id": "95f868dd",
   "metadata": {},
   "source": [
    "# The columns t1 and t2 have a corr coefficient of 0.99 and one of them can be dropped.\n"
   ]
  },
  {
   "cell_type": "code",
   "execution_count": 23,
   "id": "c35eac74",
   "metadata": {},
   "outputs": [],
   "source": [
    "# Let's drop 't1' \n",
    "London_bike_data_reqd_cols = London_bike_share.drop(['t1'],axis=1)"
   ]
  },
  {
   "cell_type": "markdown",
   "id": "08249e2f",
   "metadata": {},
   "source": [
    "# 2.4 Feature Engineering"
   ]
  },
  {
   "cell_type": "code",
   "execution_count": 43,
   "id": "35a328f6",
   "metadata": {},
   "outputs": [],
   "source": [
    "# Let's divide the timestamp into \"year\" \"month\" and \"hour\" and save them as separate columns\n",
    "\n",
    "London_bike_share['timestamp'] = pd.to_datetime(London_bike_share['timestamp'], format = '%Y%m%d %H:%M:%S')\n",
    "London_bike_share['year'] = London_bike_share['timestamp'].dt.year\n",
    "London_bike_share['month'] = London_bike_share['timestamp'].dt.month\n",
    "London_bike_share['hour'] = London_bike_share['timestamp'].dt.hour"
   ]
  },
  {
   "cell_type": "code",
   "execution_count": 25,
   "id": "82f35e3c",
   "metadata": {},
   "outputs": [
    {
     "data": {
      "image/png": "[encoded data removed]",
      "text/plain": [
       "<Figure size 576x432 with 1 Axes>"
      ]
     },
     "metadata": {
      "needs_background": "light"
     },
     "output_type": "display_data"
    }
   ],
   "source": [
    "# Let's see which month is the popular for bike sharing using violin plot.\n",
    "\n",
    "plt.figure(figsize = (8,6))\n",
    "sns.violinplot(x = London_bike_share['month'] , y = 'cnt', data = London_bike_share);"
   ]
  },
  {
   "cell_type": "markdown",
   "id": "466091b1",
   "metadata": {},
   "source": [
    "# We can see from the violin plot that the months June, july and august (6,7 and 8) are having higher counts . \n",
    "# So these months being warm, are more popular for ride sharing "
   ]
  },
  {
   "cell_type": "code",
   "execution_count": null,
   "id": "a563249c",
   "metadata": {},
   "outputs": [],
   "source": []
  },
  {
   "cell_type": "markdown",
   "id": "80be65fe",
   "metadata": {},
   "source": [
    "# 3. Exploratory analysis"
   ]
  },
  {
   "cell_type": "markdown",
   "id": "a4f7165b",
   "metadata": {},
   "source": [
    "# Multivariate analysis ( The effect of Weather conditions (weather_code and season) on number of bike shares )"
   ]
  },
  {
   "cell_type": "code",
   "execution_count": 26,
   "id": "b03a5f86",
   "metadata": {},
   "outputs": [],
   "source": [
    "# Let's create a separate dataframe showing counts of riders in different weather conditions\n",
    "LBS_Weather = London_bike_share.groupby(['weather_code'])['cnt'].sum().reset_index()"
   ]
  },
  {
   "cell_type": "code",
   "execution_count": 27,
   "id": "a27bf49c",
   "metadata": {},
   "outputs": [],
   "source": [
    "# Let's see the weather description for each of the weather codes\n",
    "LBS_Weather['Weather_Description'] = [\"Clear\",\"Scattered Clouds\",\"Broken Clouds\",\"Cloudy\",\"Light shower\",\"Thunderstorm\",\"Snowfall\"]"
   ]
  },
  {
   "cell_type": "code",
   "execution_count": 28,
   "id": "11860224",
   "metadata": {},
   "outputs": [
    {
     "data": {
      "text/html": [
       "<div>\n",
       "<style scoped>\n",
       "    .dataframe tbody tr th:only-of-type {\n",
       "        vertical-align: middle;\n",
       "    }\n",
       "\n",
       "    .dataframe tbody tr th {\n",
       "        vertical-align: top;\n",
       "    }\n",
       "\n",
       "    .dataframe thead th {\n",
       "        text-align: right;\n",
       "    }\n",
       "</style>\n",
       "<table border=\"1\" class=\"dataframe\">\n",
       "  <thead>\n",
       "    <tr style=\"text-align: right;\">\n",
       "      <th></th>\n",
       "      <th>weather_code</th>\n",
       "      <th>cnt</th>\n",
       "      <th>Weather_Description</th>\n",
       "    </tr>\n",
       "  </thead>\n",
       "  <tbody>\n",
       "    <tr>\n",
       "      <th>0</th>\n",
       "      <td>1.0</td>\n",
       "      <td>5490529</td>\n",
       "      <td>Clear</td>\n",
       "    </tr>\n",
       "    <tr>\n",
       "      <th>1</th>\n",
       "      <td>2.0</td>\n",
       "      <td>5143657</td>\n",
       "      <td>Scattered Clouds</td>\n",
       "    </tr>\n",
       "    <tr>\n",
       "      <th>2</th>\n",
       "      <td>3.0</td>\n",
       "      <td>3754052</td>\n",
       "      <td>Broken Clouds</td>\n",
       "    </tr>\n",
       "    <tr>\n",
       "      <th>3</th>\n",
       "      <td>4.0</td>\n",
       "      <td>891653</td>\n",
       "      <td>Cloudy</td>\n",
       "    </tr>\n",
       "    <tr>\n",
       "      <th>4</th>\n",
       "      <td>7.0</td>\n",
       "      <td>1473855</td>\n",
       "      <td>Light shower</td>\n",
       "    </tr>\n",
       "    <tr>\n",
       "      <th>5</th>\n",
       "      <td>10.0</td>\n",
       "      <td>8168</td>\n",
       "      <td>Thunderstorm</td>\n",
       "    </tr>\n",
       "    <tr>\n",
       "      <th>6</th>\n",
       "      <td>26.0</td>\n",
       "      <td>15051</td>\n",
       "      <td>Snowfall</td>\n",
       "    </tr>\n",
       "  </tbody>\n",
       "</table>\n",
       "</div>"
      ],
      "text/plain": [
       "   weather_code      cnt Weather_Description\n",
       "0           1.0  5490529               Clear\n",
       "1           2.0  5143657    Scattered Clouds\n",
       "2           3.0  3754052       Broken Clouds\n",
       "3           4.0   891653              Cloudy\n",
       "4           7.0  1473855        Light shower\n",
       "5          10.0     8168        Thunderstorm\n",
       "6          26.0    15051            Snowfall"
      ]
     },
     "execution_count": 28,
     "metadata": {},
     "output_type": "execute_result"
    }
   ],
   "source": [
    "LBS_Weather"
   ]
  },
  {
   "cell_type": "code",
   "execution_count": 29,
   "id": "0c9c1cd6",
   "metadata": {},
   "outputs": [
    {
     "data": {
      "image/png": "[encoded data removed]",
      "text/plain": [
       "<Figure size 432x288 with 1 Axes>"
      ]
     },
     "metadata": {},
     "output_type": "display_data"
    }
   ],
   "source": [
    "# Pie plot for showing Bike sharing popularity in different weather conditions\n",
    "weather_data = LBS_Weather[\"Weather_Description\"]\n",
    "cnt_data = LBS_Weather[\"cnt\"]\n",
    "colors = [\"r\",\"g\",\"b\",\"c\",\"y\",\"m\",\"k\"]\n",
    "porcent = 100.*cnt_data/cnt_data.sum()\n",
    "patches, texts = plt.pie(cnt_data, colors=colors, startangle=90, radius=1.2)\n",
    "labels = ['{0} - {1:1.2f} %'.format(i,j) for i,j in zip(weather_data, porcent)]\n",
    "sort_legend = True\n",
    "if sort_legend:\n",
    "    patches, labels, dummy =  zip(*sorted(zip(patches, labels, cnt_data),\n",
    "                                          key=lambda weather_data: weather_data[2],\n",
    "                                          reverse=True))\n",
    "plt.title(\"Bike sharing in different weather conditions\")\n",
    "plt.legend(patches, labels, loc='best', bbox_to_anchor=(-0.1, 1.),\n",
    "           fontsize=8)\n",
    "plt.savefig('piechart.png', bbox_inches='tight')"
   ]
  },
  {
   "cell_type": "markdown",
   "id": "aac4cdea",
   "metadata": {},
   "source": [
    "# The pie plot is self explanatory. But we can easily conclude that a clear or a partially cloudy weather attracts more bike-sharing than extreme weather conditions like rain or snowfall as expected"
   ]
  },
  {
   "cell_type": "code",
   "execution_count": 30,
   "id": "8c12f8d6",
   "metadata": {},
   "outputs": [],
   "source": [
    "# Similarly let's create the data to see the number of riders in each of the seasons\n",
    "LBS_Season = London_bike_share.groupby(['season'])['cnt'].sum().reset_index()"
   ]
  },
  {
   "cell_type": "code",
   "execution_count": 31,
   "id": "6299bcbd",
   "metadata": {},
   "outputs": [],
   "source": [
    "LBS_Season['season_description'] = [\"Spring\",\"Summer\",\"Fall\",\"Winter\"]"
   ]
  },
  {
   "cell_type": "code",
   "execution_count": 32,
   "id": "1695ed1a",
   "metadata": {},
   "outputs": [
    {
     "data": {
      "text/html": [
       "<div>\n",
       "<style scoped>\n",
       "    .dataframe tbody tr th:only-of-type {\n",
       "        vertical-align: middle;\n",
       "    }\n",
       "\n",
       "    .dataframe tbody tr th {\n",
       "        vertical-align: top;\n",
       "    }\n",
       "\n",
       "    .dataframe thead th {\n",
       "        text-align: right;\n",
       "    }\n",
       "</style>\n",
       "<table border=\"1\" class=\"dataframe\">\n",
       "  <thead>\n",
       "    <tr style=\"text-align: right;\">\n",
       "      <th></th>\n",
       "      <th>season</th>\n",
       "      <th>cnt</th>\n",
       "      <th>season_description</th>\n",
       "    </tr>\n",
       "  </thead>\n",
       "  <tbody>\n",
       "    <tr>\n",
       "      <th>0</th>\n",
       "      <td>0.0</td>\n",
       "      <td>4221932</td>\n",
       "      <td>Spring</td>\n",
       "    </tr>\n",
       "    <tr>\n",
       "      <th>1</th>\n",
       "      <td>1.0</td>\n",
       "      <td>4915080</td>\n",
       "      <td>Summer</td>\n",
       "    </tr>\n",
       "    <tr>\n",
       "      <th>2</th>\n",
       "      <td>2.0</td>\n",
       "      <td>4234791</td>\n",
       "      <td>Fall</td>\n",
       "    </tr>\n",
       "    <tr>\n",
       "      <th>3</th>\n",
       "      <td>3.0</td>\n",
       "      <td>3405162</td>\n",
       "      <td>Winter</td>\n",
       "    </tr>\n",
       "  </tbody>\n",
       "</table>\n",
       "</div>"
      ],
      "text/plain": [
       "   season      cnt season_description\n",
       "0     0.0  4221932             Spring\n",
       "1     1.0  4915080             Summer\n",
       "2     2.0  4234791               Fall\n",
       "3     3.0  3405162             Winter"
      ]
     },
     "execution_count": 32,
     "metadata": {},
     "output_type": "execute_result"
    }
   ],
   "source": [
    "# Let's add the season descriptions\n",
    "LBS_Season"
   ]
  },
  {
   "cell_type": "code",
   "execution_count": 33,
   "id": "1f1f529c",
   "metadata": {},
   "outputs": [
    {
     "data": {
      "image/png": "[encoded data removed]",
      "text/plain": [
       "<Figure size 432x288 with 1 Axes>"
      ]
     },
     "metadata": {},
     "output_type": "display_data"
    }
   ],
   "source": [
    "# Pie plot for showing the percentage of riders in each of the seasons\n",
    "season_data = LBS_Season[\"season_description\"]\n",
    "cnt_data = LBS_Season[\"cnt\"]\n",
    "colors = [\"c\",\"y\",\"m\",\"k\"]\n",
    "porcent = 100.*cnt_data/cnt_data.sum()\n",
    "patches, texts = plt.pie(cnt_data, colors=colors, startangle=90, radius=1.2)\n",
    "labels = ['{0} - {1:1.2f} %'.format(i,j) for i,j in zip(season_data, porcent)]\n",
    "sort_legend = True\n",
    "if sort_legend:\n",
    "    patches, labels, dummy =  zip(*sorted(zip(patches, labels, cnt_data),\n",
    "                                          key=lambda season_data: season_data[2],\n",
    "                                          reverse=True))\n",
    "plt.title(\"Bike shares in different seasons\")\n",
    "plt.legend(patches, labels, loc='best', bbox_to_anchor=(-0.1, 1.),\n",
    "           fontsize=8)\n",
    "plt.savefig('piechart.png', bbox_inches='tight')"
   ]
  },
  {
   "cell_type": "markdown",
   "id": "138ca41b",
   "metadata": {},
   "source": [
    "# We can see that the summer is the most popular season for Bike sharing (29.38%). Spring and Fall are almost equally popular seasons amongs bike sharers. \n",
    "# The least favourable season for bike-sharing is winter as expected"
   ]
  },
  {
   "cell_type": "code",
   "execution_count": 34,
   "id": "04cb633d",
   "metadata": {},
   "outputs": [],
   "source": [
    "# Similarly let's create the data to see the number of riders in holiday / non holiday\n",
    "LBS_Holiday = London_bike_share.groupby(['is_holiday'])['cnt'].sum().reset_index()"
   ]
  },
  {
   "cell_type": "code",
   "execution_count": 35,
   "id": "692e0101",
   "metadata": {},
   "outputs": [],
   "source": [
    "LBS_Holiday['Holiday-NonHoliday'] = [\"Non-holiday\",\"Holiday\"]"
   ]
  },
  {
   "cell_type": "code",
   "execution_count": 36,
   "id": "41d4cc6c",
   "metadata": {},
   "outputs": [
    {
     "data": {
      "text/html": [
       "<div>\n",
       "<style scoped>\n",
       "    .dataframe tbody tr th:only-of-type {\n",
       "        vertical-align: middle;\n",
       "    }\n",
       "\n",
       "    .dataframe tbody tr th {\n",
       "        vertical-align: top;\n",
       "    }\n",
       "\n",
       "    .dataframe thead th {\n",
       "        text-align: right;\n",
       "    }\n",
       "</style>\n",
       "<table border=\"1\" class=\"dataframe\">\n",
       "  <thead>\n",
       "    <tr style=\"text-align: right;\">\n",
       "      <th></th>\n",
       "      <th>is_holiday</th>\n",
       "      <th>cnt</th>\n",
       "      <th>Holiday-NonHoliday</th>\n",
       "    </tr>\n",
       "  </thead>\n",
       "  <tbody>\n",
       "    <tr>\n",
       "      <th>0</th>\n",
       "      <td>0.0</td>\n",
       "      <td>16481467</td>\n",
       "      <td>Non-holiday</td>\n",
       "    </tr>\n",
       "    <tr>\n",
       "      <th>1</th>\n",
       "      <td>1.0</td>\n",
       "      <td>295498</td>\n",
       "      <td>Holiday</td>\n",
       "    </tr>\n",
       "  </tbody>\n",
       "</table>\n",
       "</div>"
      ],
      "text/plain": [
       "   is_holiday       cnt Holiday-NonHoliday\n",
       "0         0.0  16481467        Non-holiday\n",
       "1         1.0    295498            Holiday"
      ]
     },
     "execution_count": 36,
     "metadata": {},
     "output_type": "execute_result"
    }
   ],
   "source": [
    "LBS_Holiday"
   ]
  },
  {
   "cell_type": "code",
   "execution_count": 37,
   "id": "7cce1434",
   "metadata": {},
   "outputs": [
    {
     "data": {
      "image/png": "[encoded data removed]",
      "text/plain": [
       "<Figure size 432x288 with 1 Axes>"
      ]
     },
     "metadata": {
      "needs_background": "light"
     },
     "output_type": "display_data"
    }
   ],
   "source": [
    "# Plot of riders in holidays v/s weekends\n",
    "import matplotlib.pyplot as plot \n",
    "# Draw a vertical bar chart\n",
    "LBS_Holiday.plot.bar(x=\"Holiday-NonHoliday\", y=\"cnt\", rot=70, title=\"Bike sharing in holidays/weekdays\");\n",
    "plot.show(block=True);"
   ]
  },
  {
   "cell_type": "markdown",
   "id": "221ea081",
   "metadata": {},
   "source": [
    "# Bikesharing is popular in Non-holidays (working days) and not so popular on holidays"
   ]
  },
  {
   "cell_type": "code",
   "execution_count": 38,
   "id": "66d74891",
   "metadata": {},
   "outputs": [],
   "source": [
    "# Similarly let's create the data to see the number of riders in weekend / weekday\n",
    "LBS_weekend = London_bike_share.groupby(['is_weekend'])['cnt'].sum().reset_index()"
   ]
  },
  {
   "cell_type": "code",
   "execution_count": 39,
   "id": "55645066",
   "metadata": {},
   "outputs": [],
   "source": [
    "# Let's add the description for \"is_weekend\" column\n",
    "LBS_weekend['weekend/weekday'] = [\"weekday\",\"weekend\"]"
   ]
  },
  {
   "cell_type": "code",
   "execution_count": 40,
   "id": "8157860c",
   "metadata": {},
   "outputs": [
    {
     "data": {
      "text/plain": [
       "weekend/weekday\n",
       "weekday    12141652\n",
       "weekend     4635313\n",
       "Name: cnt, dtype: int64"
      ]
     },
     "execution_count": 40,
     "metadata": {},
     "output_type": "execute_result"
    }
   ],
   "source": [
    "LBS_weekend.groupby(['weekend/weekday'])['cnt'].sum()"
   ]
  },
  {
   "cell_type": "code",
   "execution_count": 41,
   "id": "caba6818",
   "metadata": {},
   "outputs": [
    {
     "data": {
      "image/png": "[encoded data removed]",
      "text/plain": [
       "<Figure size 432x288 with 1 Axes>"
      ]
     },
     "metadata": {
      "needs_background": "light"
     },
     "output_type": "display_data"
    }
   ],
   "source": [
    "# Plot of riders in weekdays v/s weekends\n",
    "import matplotlib.pyplot as plot \n",
    "# Draw a vertical bar chart\n",
    "LBS_weekend.plot.bar(x=\"weekend/weekday\", y=\"cnt\", rot=70, title=\"Bike sharing in weekday/weekend\");\n",
    "plot.show(block=True);"
   ]
  },
  {
   "cell_type": "markdown",
   "id": "ffbe4c47",
   "metadata": {},
   "source": [
    "# As expected, ride sharing is popular in weekday ( working day) than weekends "
   ]
  },
  {
   "cell_type": "code",
   "execution_count": null,
   "id": "f9de0b88",
   "metadata": {},
   "outputs": [],
   "source": []
  },
  {
   "cell_type": "markdown",
   "id": "8456a259",
   "metadata": {},
   "source": [
    "# Modelling"
   ]
  },
  {
   "cell_type": "code",
   "execution_count": 49,
   "id": "844a9921",
   "metadata": {},
   "outputs": [
    {
     "name": "stdout",
     "output_type": "stream",
     "text": [
      "<class 'pandas.core.frame.DataFrame'>\n",
      "Int64Index: 16647 entries, 0 to 17413\n",
      "Data columns (total 11 columns):\n",
      " #   Column        Non-Null Count  Dtype  \n",
      "---  ------        --------------  -----  \n",
      " 0   cnt           16647 non-null  int64  \n",
      " 1   t2            16647 non-null  float64\n",
      " 2   hum           16647 non-null  float64\n",
      " 3   wind_speed    16647 non-null  float64\n",
      " 4   weather_code  16647 non-null  float64\n",
      " 5   is_holiday    16647 non-null  float64\n",
      " 6   is_weekend    16647 non-null  float64\n",
      " 7   season        16647 non-null  float64\n",
      " 8   year          16647 non-null  int64  \n",
      " 9   month         16647 non-null  int64  \n",
      " 10  hour          16647 non-null  int64  \n",
      "dtypes: float64(7), int64(4)\n",
      "memory usage: 2.0 MB\n"
     ]
    }
   ],
   "source": [
    "# Checking the final dataset prior to modelling\n",
    "London_bike_data_reqd_cols=London_bike_share.drop(['t1','timestamp'],axis=1)\n",
    "London_bike_data_reqd_cols.info()"
   ]
  },
  {
   "cell_type": "markdown",
   "id": "64eb057b",
   "metadata": {},
   "source": [
    "# Model preparation"
   ]
  },
  {
   "cell_type": "code",
   "execution_count": 50,
   "id": "1b96fbb5",
   "metadata": {},
   "outputs": [],
   "source": [
    "# Do the imports of necessary functions\n",
    "from sklearn.metrics import confusion_matrix\n",
    "from sklearn.metrics import classification_report\n",
    "from sklearn.model_selection import train_test_split\n",
    "# Seperate the data into dependent and independent variables\n",
    "X = London_bike_data_reqd_cols.drop('cnt',axis=1)\n",
    "y = London_bike_data_reqd_cols['cnt']\n",
    "# Using standard scaling \n",
    "from sklearn.preprocessing import StandardScaler\n",
    "scaler = StandardScaler()\n",
    "X1 = scaler.fit_transform(X)\n",
    "X = pd.DataFrame(data = X1, columns = X.columns)"
   ]
  },
  {
   "cell_type": "code",
   "execution_count": 51,
   "id": "7baf9263",
   "metadata": {},
   "outputs": [
    {
     "data": {
      "text/plain": [
       "((14982, 10), (1665, 10), (14982,), (1665,))"
      ]
     },
     "execution_count": 51,
     "metadata": {},
     "output_type": "execute_result"
    }
   ],
   "source": [
    "# Define testing and training dataset\n",
    "from sklearn.model_selection import train_test_split\n",
    "X_train, X_test, y_train, y_test = train_test_split(X, y, test_size = 0.10, random_state= 42)\n",
    "X_train.shape, X_test.shape, y_train.shape, y_test.shape"
   ]
  },
  {
   "cell_type": "markdown",
   "id": "2c503daa",
   "metadata": {},
   "source": [
    "# Trying linear regression Model"
   ]
  },
  {
   "cell_type": "code",
   "execution_count": 52,
   "id": "3a3aba22",
   "metadata": {},
   "outputs": [
    {
     "data": {
      "text/plain": [
       "LinearRegression(normalize=True)"
      ]
     },
     "execution_count": 52,
     "metadata": {},
     "output_type": "execute_result"
    }
   ],
   "source": [
    "from sklearn.linear_model import LinearRegression\n",
    "from sklearn.metrics import mean_absolute_error, r2_score, mean_squared_log_error, mean_squared_error, make_scorer\n",
    "\n",
    "lr = LinearRegression(normalize = True)\n",
    "lr.fit(X_train, y_train)"
   ]
  },
  {
   "cell_type": "code",
   "execution_count": 53,
   "id": "47392ecf",
   "metadata": {},
   "outputs": [
    {
     "data": {
      "text/plain": [
       "0.32001615779336257"
      ]
     },
     "execution_count": 53,
     "metadata": {},
     "output_type": "execute_result"
    }
   ],
   "source": [
    "lr.score(X_test, y_test)"
   ]
  },
  {
   "cell_type": "code",
   "execution_count": 54,
   "id": "d6753f8b",
   "metadata": {},
   "outputs": [],
   "source": [
    "prediction_LR = lr.predict(X_test)"
   ]
  },
  {
   "cell_type": "code",
   "execution_count": 55,
   "id": "cb55edaf",
   "metadata": {},
   "outputs": [
    {
     "data": {
      "text/plain": [
       "array([ 374.20172556,  175.65156793,   62.38987154, ..., 1013.82540385,\n",
       "       1392.79937792, 1130.68230812])"
      ]
     },
     "execution_count": 55,
     "metadata": {},
     "output_type": "execute_result"
    }
   ],
   "source": [
    "prediction_LR"
   ]
  },
  {
   "cell_type": "code",
   "execution_count": 56,
   "id": "538ae0aa",
   "metadata": {},
   "outputs": [
    {
     "name": "stdout",
     "output_type": "stream",
     "text": [
      "RMSE for Linear regression: 738.603241\n",
      "Mean absolute error for liner regression: 545.397987\n"
     ]
    }
   ],
   "source": [
    "rmse_LR = np.sqrt(mean_squared_error(y_test, prediction_LR))\n",
    "print(\"RMSE for Linear regression: %f\" % (rmse_LR))\n",
    "\n",
    "mae_LR = mean_absolute_error(y_test, prediction_LR)\n",
    "print(\"Mean absolute error for liner regression: %f\" % (mae_LR))"
   ]
  },
  {
   "cell_type": "code",
   "execution_count": 57,
   "id": "6086ae25",
   "metadata": {},
   "outputs": [
    {
     "data": {
      "text/html": [
       "<div>\n",
       "<style scoped>\n",
       "    .dataframe tbody tr th:only-of-type {\n",
       "        vertical-align: middle;\n",
       "    }\n",
       "\n",
       "    .dataframe tbody tr th {\n",
       "        vertical-align: top;\n",
       "    }\n",
       "\n",
       "    .dataframe thead th {\n",
       "        text-align: right;\n",
       "    }\n",
       "</style>\n",
       "<table border=\"1\" class=\"dataframe\">\n",
       "  <thead>\n",
       "    <tr style=\"text-align: right;\">\n",
       "      <th></th>\n",
       "      <th>actual</th>\n",
       "      <th>predicted</th>\n",
       "    </tr>\n",
       "  </thead>\n",
       "  <tbody>\n",
       "    <tr>\n",
       "      <th>0</th>\n",
       "      <td>542</td>\n",
       "      <td>374.201726</td>\n",
       "    </tr>\n",
       "    <tr>\n",
       "      <th>1</th>\n",
       "      <td>78</td>\n",
       "      <td>175.651568</td>\n",
       "    </tr>\n",
       "    <tr>\n",
       "      <th>2</th>\n",
       "      <td>520</td>\n",
       "      <td>62.389872</td>\n",
       "    </tr>\n",
       "    <tr>\n",
       "      <th>3</th>\n",
       "      <td>671</td>\n",
       "      <td>1241.139371</td>\n",
       "    </tr>\n",
       "    <tr>\n",
       "      <th>4</th>\n",
       "      <td>146</td>\n",
       "      <td>209.439444</td>\n",
       "    </tr>\n",
       "    <tr>\n",
       "      <th>...</th>\n",
       "      <td>...</td>\n",
       "      <td>...</td>\n",
       "    </tr>\n",
       "    <tr>\n",
       "      <th>1660</th>\n",
       "      <td>1039</td>\n",
       "      <td>364.230471</td>\n",
       "    </tr>\n",
       "    <tr>\n",
       "      <th>1661</th>\n",
       "      <td>2036</td>\n",
       "      <td>269.306225</td>\n",
       "    </tr>\n",
       "    <tr>\n",
       "      <th>1662</th>\n",
       "      <td>1007</td>\n",
       "      <td>1013.825404</td>\n",
       "    </tr>\n",
       "    <tr>\n",
       "      <th>1663</th>\n",
       "      <td>659</td>\n",
       "      <td>1392.799378</td>\n",
       "    </tr>\n",
       "    <tr>\n",
       "      <th>1664</th>\n",
       "      <td>335</td>\n",
       "      <td>1130.682308</td>\n",
       "    </tr>\n",
       "  </tbody>\n",
       "</table>\n",
       "<p>1665 rows × 2 columns</p>\n",
       "</div>"
      ],
      "text/plain": [
       "      actual    predicted\n",
       "0        542   374.201726\n",
       "1         78   175.651568\n",
       "2        520    62.389872\n",
       "3        671  1241.139371\n",
       "4        146   209.439444\n",
       "...      ...          ...\n",
       "1660    1039   364.230471\n",
       "1661    2036   269.306225\n",
       "1662    1007  1013.825404\n",
       "1663     659  1392.799378\n",
       "1664     335  1130.682308\n",
       "\n",
       "[1665 rows x 2 columns]"
      ]
     },
     "execution_count": 57,
     "metadata": {},
     "output_type": "execute_result"
    }
   ],
   "source": [
    "actual = pd.DataFrame(data = y_test.values, columns = [\"actual\"])\n",
    "predicted_LR = pd.DataFrame(data = prediction_LR, columns = [\"predicted\"])\n",
    "\n",
    "final = pd.concat([actual, predicted_LR], axis = 1)\n",
    "final"
   ]
  },
  {
   "cell_type": "markdown",
   "id": "00cfbcbd",
   "metadata": {},
   "source": [
    "# Root mean square value for Linear regression model is high (around 750). So let's try other models as well"
   ]
  },
  {
   "cell_type": "code",
   "execution_count": null,
   "id": "335788fb",
   "metadata": {},
   "outputs": [],
   "source": []
  },
  {
   "cell_type": "markdown",
   "id": "d6ec731b",
   "metadata": {},
   "source": [
    "# Trying K Nearest neighbours model"
   ]
  },
  {
   "cell_type": "code",
   "execution_count": 58,
   "id": "d9d0b345",
   "metadata": {},
   "outputs": [
    {
     "name": "stdout",
     "output_type": "stream",
     "text": [
      "accuracy for KNN model in predicting the Count of bikeshare is : -  0.0012012012012012011\n"
     ]
    }
   ],
   "source": [
    "# K-Nearest Neighbours\n",
    "from sklearn.neighbors import KNeighborsClassifier\n",
    "\n",
    "classifier = KNeighborsClassifier(n_neighbors=60)\n",
    "classifier.fit(X_train, y_train)\n",
    "\n",
    "y_pred_KNN = classifier.predict(X_test)\n",
    "\n",
    "# Summary of the predictions made by the classifier\n",
    "#print(classification_report(y_test, y_pred_KNN))\n",
    "#print(confusion_matrix(y_test, y_pred_KNN))\n",
    "# Accuracy score\n",
    "from sklearn.metrics import accuracy_score\n",
    "print('accuracy for KNN model in predicting the Count of bikeshare is : - ',accuracy_score(y_pred_KNN,y_test))"
   ]
  },
  {
   "cell_type": "markdown",
   "id": "cb78dd54",
   "metadata": {},
   "source": [
    "# Accuracy for KNN is very close to 0 and cannot be used for predicting the ride share counts "
   ]
  },
  {
   "cell_type": "code",
   "execution_count": null,
   "id": "e2ff0d55",
   "metadata": {},
   "outputs": [],
   "source": []
  },
  {
   "cell_type": "markdown",
   "id": "4888565a",
   "metadata": {},
   "source": [
    "# Trying the decision tree algorithm for predictions"
   ]
  },
  {
   "cell_type": "code",
   "execution_count": 59,
   "id": "cdedc7e6",
   "metadata": {},
   "outputs": [
    {
     "name": "stdout",
     "output_type": "stream",
     "text": [
      "accuracy for Decision tree model in predicting the Ride share count is : -   0.004804804804804805\n"
     ]
    }
   ],
   "source": [
    "# Decision Tree's\n",
    "from sklearn.tree import DecisionTreeClassifier\n",
    "\n",
    "classifier = DecisionTreeClassifier()\n",
    "\n",
    "classifier.fit(X_train, y_train)\n",
    "\n",
    "y_pred_DT = classifier.predict(X_test)\n",
    "\n",
    "# Summary of the predictions made by the classifier\n",
    "#print(classification_report(y_test, y_pred_DT))\n",
    "#print(confusion_matrix(y_test, y_pred_DT))\n",
    "# Accuracy score\n",
    "from sklearn.metrics import accuracy_score\n",
    "print('accuracy for Decision tree model in predicting the Ride share count is : -  ',accuracy_score(y_pred_DT,y_test))"
   ]
  },
  {
   "cell_type": "markdown",
   "id": "f3c3eec0",
   "metadata": {},
   "source": [
    "# Accuracy for decision tree is very close to 0 as well and cannot be used for predicting the ride share counts"
   ]
  },
  {
   "cell_type": "code",
   "execution_count": null,
   "id": "0845bcc3",
   "metadata": {},
   "outputs": [],
   "source": []
  },
  {
   "cell_type": "markdown",
   "id": "d339c086",
   "metadata": {},
   "source": [
    "# Let's try the XGB Regressor algorithm and check the prediction"
   ]
  },
  {
   "cell_type": "code",
   "execution_count": 60,
   "id": "144ca772",
   "metadata": {},
   "outputs": [],
   "source": [
    "from xgboost.sklearn import XGBRegressor"
   ]
  },
  {
   "cell_type": "code",
   "execution_count": 61,
   "id": "1aac9a86",
   "metadata": {},
   "outputs": [
    {
     "name": "stdout",
     "output_type": "stream",
     "text": [
      "Score 0.9521424261208368\n"
     ]
    }
   ],
   "source": [
    "xgbmodel = XGBRegressor()\n",
    "xgbmodel.fit(X_train, y_train)\n",
    "\n",
    "preds = xgbmodel.predict(X_test)\n",
    "print(\"Score\", xgbmodel.score(X_test, y_test))"
   ]
  },
  {
   "cell_type": "code",
   "execution_count": 62,
   "id": "4d60ccad",
   "metadata": {},
   "outputs": [
    {
     "data": {
      "text/html": [
       "<div>\n",
       "<style scoped>\n",
       "    .dataframe tbody tr th:only-of-type {\n",
       "        vertical-align: middle;\n",
       "    }\n",
       "\n",
       "    .dataframe tbody tr th {\n",
       "        vertical-align: top;\n",
       "    }\n",
       "\n",
       "    .dataframe thead th {\n",
       "        text-align: right;\n",
       "    }\n",
       "</style>\n",
       "<table border=\"1\" class=\"dataframe\">\n",
       "  <thead>\n",
       "    <tr style=\"text-align: right;\">\n",
       "      <th></th>\n",
       "      <th>actual</th>\n",
       "      <th>predicted</th>\n",
       "    </tr>\n",
       "  </thead>\n",
       "  <tbody>\n",
       "    <tr>\n",
       "      <th>0</th>\n",
       "      <td>542</td>\n",
       "      <td>493.121643</td>\n",
       "    </tr>\n",
       "    <tr>\n",
       "      <th>1</th>\n",
       "      <td>78</td>\n",
       "      <td>7.624784</td>\n",
       "    </tr>\n",
       "    <tr>\n",
       "      <th>2</th>\n",
       "      <td>520</td>\n",
       "      <td>488.409271</td>\n",
       "    </tr>\n",
       "    <tr>\n",
       "      <th>3</th>\n",
       "      <td>671</td>\n",
       "      <td>671.729187</td>\n",
       "    </tr>\n",
       "    <tr>\n",
       "      <th>4</th>\n",
       "      <td>146</td>\n",
       "      <td>134.747543</td>\n",
       "    </tr>\n",
       "    <tr>\n",
       "      <th>...</th>\n",
       "      <td>...</td>\n",
       "      <td>...</td>\n",
       "    </tr>\n",
       "    <tr>\n",
       "      <th>1660</th>\n",
       "      <td>1039</td>\n",
       "      <td>1122.580078</td>\n",
       "    </tr>\n",
       "    <tr>\n",
       "      <th>1661</th>\n",
       "      <td>2036</td>\n",
       "      <td>2083.189941</td>\n",
       "    </tr>\n",
       "    <tr>\n",
       "      <th>1662</th>\n",
       "      <td>1007</td>\n",
       "      <td>1186.150635</td>\n",
       "    </tr>\n",
       "    <tr>\n",
       "      <th>1663</th>\n",
       "      <td>659</td>\n",
       "      <td>715.453674</td>\n",
       "    </tr>\n",
       "    <tr>\n",
       "      <th>1664</th>\n",
       "      <td>335</td>\n",
       "      <td>485.599854</td>\n",
       "    </tr>\n",
       "  </tbody>\n",
       "</table>\n",
       "<p>1665 rows × 2 columns</p>\n",
       "</div>"
      ],
      "text/plain": [
       "      actual    predicted\n",
       "0        542   493.121643\n",
       "1         78     7.624784\n",
       "2        520   488.409271\n",
       "3        671   671.729187\n",
       "4        146   134.747543\n",
       "...      ...          ...\n",
       "1660    1039  1122.580078\n",
       "1661    2036  2083.189941\n",
       "1662    1007  1186.150635\n",
       "1663     659   715.453674\n",
       "1664     335   485.599854\n",
       "\n",
       "[1665 rows x 2 columns]"
      ]
     },
     "execution_count": 62,
     "metadata": {},
     "output_type": "execute_result"
    }
   ],
   "source": [
    "actual = pd.DataFrame(data = y_test.values, columns = [\"actual\"])\n",
    "predicted_xgb = pd.DataFrame(data = preds, columns = [\"predicted\"])\n",
    "\n",
    "final = pd.concat([actual, predicted_xgb], axis = 1)\n",
    "final"
   ]
  },
  {
   "cell_type": "markdown",
   "id": "27911555",
   "metadata": {},
   "source": [
    "# The score for XGB is 0.952 which is quite good and we can see that the predicted values are very close to the actuals"
   ]
  },
  {
   "cell_type": "code",
   "execution_count": null,
   "id": "feb808b2",
   "metadata": {},
   "outputs": [],
   "source": []
  },
  {
   "cell_type": "markdown",
   "id": "d803507b",
   "metadata": {},
   "source": [
    "# XGB Model fine tuning"
   ]
  },
  {
   "cell_type": "markdown",
   "id": "f89d2429",
   "metadata": {},
   "source": [
    "# Let's use the 99% of the data for training and rest 1% for testing and see if it improves the accuracy"
   ]
  },
  {
   "cell_type": "code",
   "execution_count": 63,
   "id": "b7a8845d",
   "metadata": {},
   "outputs": [
    {
     "name": "stdout",
     "output_type": "stream",
     "text": [
      "Score after fine tuning 0.9589807907645056\n"
     ]
    }
   ],
   "source": [
    "# Define model parameters\n",
    "from sklearn.model_selection import train_test_split\n",
    "X_train, X_test, y_train, y_test = train_test_split(X, y, test_size = 0.01, random_state= 42)\n",
    "X_train.shape, X_test.shape, y_train.shape, y_test.shape\n",
    "\n",
    "xgbmodel = XGBRegressor()\n",
    "xgbmodel.fit(X_train, y_train)\n",
    "\n",
    "preds = xgbmodel.predict(X_test)\n",
    "print(\"Score after fine tuning\", xgbmodel.score(X_test, y_test))"
   ]
  },
  {
   "cell_type": "markdown",
   "id": "46e0871c",
   "metadata": {},
   "source": [
    "# After fine tuning, the score for XGB model improved from 0.952 to 0.958 . So, if we add more data for training over time, we can improve the prediction of count sharing using XGB regression model itself  "
   ]
  },
  {
   "cell_type": "code",
   "execution_count": null,
   "id": "1ef3f0dd",
   "metadata": {},
   "outputs": [],
   "source": []
  },
  {
   "cell_type": "markdown",
   "id": "873dcc8e",
   "metadata": {},
   "source": [
    "# Submitted by Aneesh Akramannil, Harikrishnan Bhuvanendran, Viswaraj Chandran & Rahna Babu"
   ]
  }
 ],
 "metadata": {
  "kernelspec": {
   "display_name": "Python 3",
   "language": "python",
   "name": "python3"
  },
  "language_info": {
   "codemirror_mode": {
    "name": "ipython",
    "version": 3
   },
   "file_extension": ".py",
   "mimetype": "text/x-python",
   "name": "python",
   "nbconvert_exporter": "python",
   "pygments_lexer": "ipython3",
   "version": "3.8.8"
  }
 },
 "nbformat": 4,
 "nbformat_minor": 5
}
